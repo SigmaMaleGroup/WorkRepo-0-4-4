{
  "cells": [
    {
      "cell_type": "code",
      "execution_count": 193,
      "metadata": {
        "id": "QDK7lIoBYaLa"
      },
      "outputs": [],
      "source": [
        "import pandas as pd\n",
        "import random as r\n",
        "import math as m\n",
        "import numpy as np\n",
        "from datetime import datetime\n",
        "from random import choice\n",
        "from string import ascii_uppercase\n",
        "from sklearn.model_selection import train_test_split as ts\n",
        "from  sklearn.metrics.pairwise import pairwise_distances\n",
        "from scipy.spatial import distance\n",
        "from  sklearn.metrics.pairwise import pairwise_distances\n",
        "import heapq\n",
        "import itertools\n",
        "\n"
      ]
    },
    {
      "attachments": {},
      "cell_type": "markdown",
      "metadata": {
        "id": "qX434pknCV6e"
      },
      "source": [
        "Создание датасета"
      ]
    },
    {
      "cell_type": "code",
      "execution_count": 194,
      "metadata": {
        "colab": {
          "base_uri": "https://localhost:8080/"
        },
        "id": "6ox4LAbjYaLi",
        "outputId": "43e014ee-c8aa-45a3-915c-facdb8b30e0d"
      },
      "outputs": [
        {
          "name": "stdout",
          "output_type": "stream",
          "text": [
            "100000\n"
          ]
        }
      ],
      "source": [
        "a = []\n",
        "for i in range(1 , 10001):\n",
        "    for j in range(10):\n",
        "        a.append(i)\n",
        "print(len(a))"
      ]
    },
    {
      "cell_type": "code",
      "execution_count": 195,
      "metadata": {
        "colab": {
          "base_uri": "https://localhost:8080/"
        },
        "id": "cUECnEizYaLl",
        "outputId": "a09265bd-adcb-4f17-aaf9-8628ec835224"
      },
      "outputs": [
        {
          "name": "stdout",
          "output_type": "stream",
          "text": [
            "100000\n"
          ]
        }
      ],
      "source": [
        "b = []\n",
        "for i in range(10000):\n",
        "    for j in range(1, 11):\n",
        "        b.append(j)\n",
        "print(len(b))"
      ]
    },
    {
      "cell_type": "code",
      "execution_count": 196,
      "metadata": {},
      "outputs": [],
      "source": [
        "c = [\"5e5994d3da6bb300122c5a4a\",\"5e5e5743ccb7de00197f8a6c\",\"5e5e57b1ccb7de00197f8a74\",\"5f149b69a0eff20018569dfd\",\"5f47aad7a0eff20018580a68\",\"5f5212cb67f1000011595736\",\"5f52154d67f100001159574c\",\"5f75a0d38e17a90018d0a709\",\"5f75aabf8e17a90018d0a722\",\"5f75b1cd8e17a90018d0a748\",\"5f75bef18e17a90018d0a77b\",\"5f75c5768e17a90018d0a78f\",\"5f75ca2a8e17a90018d0a7a8\",\"5f863dae8e17a90018d12b14\",\"5f86a65a8e17a90018d12be2\",\"5f86a80d8e17a90018d12bf6\",\"5f86a9f48e17a90018d12c12\",\"5f96c456e791b20019382f59\",\"5f96c6cfe791b20019382f72\",\"5fbfaaf102a7780018a6b5b7\",\"5fc50c1f02a7780018a6b870\",\"5feb2ae01aa3150018da5d46\",\"5feb5f611aa3150018da663d\",\"5feb63541aa3150018da6656\",\"5feb68cb1aa3150018da66ae\",\"5feb6e991aa3150018da673b\",\"5feb71f11aa3150018da6903\",\"5fec49c11aa3150018da83d8\",\"6013e41838f27e0018c428c6\",\"6013f52f38f27e0018c4290e\",\"6041efa6eb3b4b00183fc102\",\"60864800b286d7001830aa85\",\"60864edab286d7001830aad0\",\"60865942b286d7001830ab3a\",\"60865ab3b286d7001830ab3e\",\"60866247b286d7001830ab89\",\"60866379b286d7001830ab9c\",\"60ca1a5a1a4b0700192fcb02\",\"60fa791047a72f00189f7d27\",\"610162e647a72f00189fa773\",\"6101be6f47a72f00189fa827\",\"61025a551a4b07001932d468\",\"6107b4a6f91b100018489bb8\",\"6107e472f91b100018489bfb\",\"6107fcd3f91b100018489c38\",\"6123bdf4cb62990011cf06f4\",\"6123cfc2cb62990011cf0704\",\"614b5069d8740b00185e1d23\",\"617146c153b83e0018a78db7\",\"6197635f8db05de136c9863c\",\"61976ee18db05de136ca14ab\",\"619e35218db05de136e42772\",\"61b1eed2c53ae811d6aaa2a8\",\"61cc55622d49e6f7fa75897a\",\"61dff51883343c163e2d30ce\",\"61e026c783343c163e2f7e51\",\"61e02a1283343c163e2f9067\",\"61e13a862d49e6f7fae210f9\",\"61e97c372d49e6f7fa0b731c\",\"61ea63e82d49e6f7fa0eedd8\",\"61ea83ae2d49e6f7fa0fb64d\",\"61f249712d49e6f7fa3ead8d\",\"61f24cf02d49e6f7fa3ebbe3\",\"61f24efb2d49e6f7fa3ebf15\",\"61f2ec6b2d49e6f7fa42fc9e\",\"61f2eeb12d49e6f7fa43000a\",\"62038506a70b798fc9d39103\",\"62039dfea70b798fc9d45f39\",\"6203d115a70b798fc9d6a837\",\"6203d470a70b798fc9d70a70\",\"6203f151a70b798fc9d93c3e\",\"6204c7bda70b798fc9dbbe0b\",\"6204ce87a70b798fc9dbcdbc\",\"620e32d79480ec8db06d015a\",\"620e3ef79480ec8db06d42ce\",\"6233f16e994c9997314d782d\",\"62340c08994c9997314d99f4\",\"6241bcd598e199bbd324662c\",\"62442517994c9997317c8340\",\"624430c6994c9997317cea0a\",\"62459f5f994c99973184f8ab\",\"6245bb95994c999731873efa\",\"6245bec9994c999731878ba7\",\"6245c01b994c99973187a384\",\"6245c18d994c99973187ba38\",\"6246b1b4994c9997318ea124\",\"624d886b8ee45eeeba8aa628\",\"624d8aa58ee45eeeba8ab195\",\"624d8e938ee45eeeba8af02f\",\"624d9f568ee45eeeba8b474d\",\"624ef2fb086ea228f60fd946\",\"626020c337248b4967e2c5ac\",\"62bd828737e5f4efd43558b7\",\"62d68567518a33a2a8e9cc5b\",\"62d69763518a33a2a8ea420e\",\"62fe000d71b9411345cdd121\",\"62fe017071b9411345ce0a1c\",\"62fe02af71b9411345ce2d1f\",\"62fe05b971b9411345ce7b96\",\"62fe072071b9411345cea048\",\"62fe087771b9411345ceaa90\",\"62fe0a1871b9411345ced920\",\"62fe0ce771b9411345cee0e0\",\"6311cf59b83c398263069127\",\"6311d0eeb83c39826306a0a2\",\"6311d32cb83c39826306aee6\",\"6311d472b83c39826306b148\",\"6389d5c9810482a5a14a4e24\",\"6389d83d810482a5a14a7008\",\"6389d988810482a5a14a77a1\",\"6389dade810482a5a14a805e\",\"6389dbcb810482a5a14a8af9\",\"6389dca1810482a5a14a91db\",\"6389dd93810482a5a14a94cc\",\"63e611eb88c02c9c0104b73d\",\"63e616b388c02c9c0104ccd7\",\"64195077496364042defbe4d\",\"64195a35496364042df02111\"]\n",
        "d = []\n",
        "for i in range(10000):\n",
        "    # for j in range(1,11):\n",
        "        d.append([c[r.randint(0,len(c) - 1)]for n in range(10)])\n",
        "d = list(itertools.chain.from_iterable(d))\n"
      ]
    },
    {
      "cell_type": "code",
      "execution_count": 197,
      "metadata": {
        "id": "bE1GCidKYaLn"
      },
      "outputs": [
        {
          "data": {
            "text/html": [
              "<div>\n",
              "<style scoped>\n",
              "    .dataframe tbody tr th:only-of-type {\n",
              "        vertical-align: middle;\n",
              "    }\n",
              "\n",
              "    .dataframe tbody tr th {\n",
              "        vertical-align: top;\n",
              "    }\n",
              "\n",
              "    .dataframe thead th {\n",
              "        text-align: right;\n",
              "    }\n",
              "</style>\n",
              "<table border=\"1\" class=\"dataframe\">\n",
              "  <thead>\n",
              "    <tr style=\"text-align: right;\">\n",
              "      <th></th>\n",
              "      <th>user_id</th>\n",
              "      <th>purchased_tour</th>\n",
              "    </tr>\n",
              "  </thead>\n",
              "  <tbody>\n",
              "    <tr>\n",
              "      <th>0</th>\n",
              "      <td>1</td>\n",
              "      <td>5feb2ae01aa3150018da5d46</td>\n",
              "    </tr>\n",
              "    <tr>\n",
              "      <th>1</th>\n",
              "      <td>1</td>\n",
              "      <td>6041efa6eb3b4b00183fc102</td>\n",
              "    </tr>\n",
              "    <tr>\n",
              "      <th>2</th>\n",
              "      <td>1</td>\n",
              "      <td>62bd828737e5f4efd43558b7</td>\n",
              "    </tr>\n",
              "    <tr>\n",
              "      <th>3</th>\n",
              "      <td>1</td>\n",
              "      <td>60866379b286d7001830ab9c</td>\n",
              "    </tr>\n",
              "    <tr>\n",
              "      <th>4</th>\n",
              "      <td>1</td>\n",
              "      <td>6204c7bda70b798fc9dbbe0b</td>\n",
              "    </tr>\n",
              "  </tbody>\n",
              "</table>\n",
              "</div>"
            ],
            "text/plain": [
              "  user_id            purchased_tour\n",
              "0       1  5feb2ae01aa3150018da5d46\n",
              "1       1  6041efa6eb3b4b00183fc102\n",
              "2       1  62bd828737e5f4efd43558b7\n",
              "3       1  60866379b286d7001830ab9c\n",
              "4       1  6204c7bda70b798fc9dbbe0b"
            ]
          },
          "execution_count": 197,
          "metadata": {},
          "output_type": "execute_result"
        }
      ],
      "source": [
        "user_actions = {'user_id': [i for i in a],\n",
        "                    'metric' : [i for i in b],\n",
        "#   'date_action': [datetime.fromtimestamp(r.randint(1684954360, 1684954360 + 3*24*60*60)) for i in range(100000)], \n",
        "# 'metric_name' : ['excursions_type1_viewed', 'excursions_type2_viewed', 'excursions_type3_viewed', \n",
        "#                  'excursions_type1_added', 'excursions_type2_added', 'excursions_type3_added']\n",
        "#  'excursions_type1_added': [r.randint(0,10) for i in range(100000)],\n",
        " 'metric_value' : [r.randint(0, 10) for i in range(100000)]\n",
        "#  ,'purchased_tour' : [i for i in d]\n",
        " }\n",
        "\n",
        "user_tours = {'user_id': [i for i in a],\n",
        "'purchased_tour' : [i for i in d]\n",
        " }\n",
        "user_tours = pd.DataFrame.from_dict(user_tours, orient='index')\n",
        "user_tours = user_tours.T\n",
        "user_tours.head()"
      ]
    },
    {
      "attachments": {},
      "cell_type": "markdown",
      "metadata": {
        "id": "cIMKhNUZCYqm"
      },
      "source": [
        "Обработка параметров"
      ]
    },
    {
      "cell_type": "code",
      "execution_count": 198,
      "metadata": {
        "id": "GYhWqiiwYaLo"
      },
      "outputs": [
        {
          "data": {
            "text/html": [
              "<div>\n",
              "<style scoped>\n",
              "    .dataframe tbody tr th:only-of-type {\n",
              "        vertical-align: middle;\n",
              "    }\n",
              "\n",
              "    .dataframe tbody tr th {\n",
              "        vertical-align: top;\n",
              "    }\n",
              "\n",
              "    .dataframe thead th {\n",
              "        text-align: right;\n",
              "    }\n",
              "</style>\n",
              "<table border=\"1\" class=\"dataframe\">\n",
              "  <thead>\n",
              "    <tr style=\"text-align: right;\">\n",
              "      <th></th>\n",
              "      <th>0</th>\n",
              "      <th>1</th>\n",
              "      <th>2</th>\n",
              "      <th>3</th>\n",
              "      <th>4</th>\n",
              "      <th>5</th>\n",
              "      <th>6</th>\n",
              "      <th>7</th>\n",
              "      <th>8</th>\n",
              "      <th>9</th>\n",
              "      <th>...</th>\n",
              "      <th>99990</th>\n",
              "      <th>99991</th>\n",
              "      <th>99992</th>\n",
              "      <th>99993</th>\n",
              "      <th>99994</th>\n",
              "      <th>99995</th>\n",
              "      <th>99996</th>\n",
              "      <th>99997</th>\n",
              "      <th>99998</th>\n",
              "      <th>99999</th>\n",
              "    </tr>\n",
              "  </thead>\n",
              "  <tbody>\n",
              "    <tr>\n",
              "      <th>user_id</th>\n",
              "      <td>1</td>\n",
              "      <td>1</td>\n",
              "      <td>1</td>\n",
              "      <td>1</td>\n",
              "      <td>1</td>\n",
              "      <td>1</td>\n",
              "      <td>1</td>\n",
              "      <td>1</td>\n",
              "      <td>1</td>\n",
              "      <td>1</td>\n",
              "      <td>...</td>\n",
              "      <td>10000</td>\n",
              "      <td>10000</td>\n",
              "      <td>10000</td>\n",
              "      <td>10000</td>\n",
              "      <td>10000</td>\n",
              "      <td>10000</td>\n",
              "      <td>10000</td>\n",
              "      <td>10000</td>\n",
              "      <td>10000</td>\n",
              "      <td>10000</td>\n",
              "    </tr>\n",
              "    <tr>\n",
              "      <th>metric</th>\n",
              "      <td>1</td>\n",
              "      <td>2</td>\n",
              "      <td>3</td>\n",
              "      <td>4</td>\n",
              "      <td>5</td>\n",
              "      <td>6</td>\n",
              "      <td>7</td>\n",
              "      <td>8</td>\n",
              "      <td>9</td>\n",
              "      <td>10</td>\n",
              "      <td>...</td>\n",
              "      <td>1</td>\n",
              "      <td>2</td>\n",
              "      <td>3</td>\n",
              "      <td>4</td>\n",
              "      <td>5</td>\n",
              "      <td>6</td>\n",
              "      <td>7</td>\n",
              "      <td>8</td>\n",
              "      <td>9</td>\n",
              "      <td>10</td>\n",
              "    </tr>\n",
              "    <tr>\n",
              "      <th>metric_value</th>\n",
              "      <td>6</td>\n",
              "      <td>10</td>\n",
              "      <td>5</td>\n",
              "      <td>9</td>\n",
              "      <td>1</td>\n",
              "      <td>4</td>\n",
              "      <td>1</td>\n",
              "      <td>8</td>\n",
              "      <td>7</td>\n",
              "      <td>2</td>\n",
              "      <td>...</td>\n",
              "      <td>2</td>\n",
              "      <td>10</td>\n",
              "      <td>7</td>\n",
              "      <td>5</td>\n",
              "      <td>3</td>\n",
              "      <td>8</td>\n",
              "      <td>6</td>\n",
              "      <td>0</td>\n",
              "      <td>2</td>\n",
              "      <td>1</td>\n",
              "    </tr>\n",
              "  </tbody>\n",
              "</table>\n",
              "<p>3 rows × 100000 columns</p>\n",
              "</div>"
            ],
            "text/plain": [
              "              0      1      2      3      4      5      6      7      8      \\\n",
              "user_id           1      1      1      1      1      1      1      1      1   \n",
              "metric            1      2      3      4      5      6      7      8      9   \n",
              "metric_value      6     10      5      9      1      4      1      8      7   \n",
              "\n",
              "              9      ...  99990  99991  99992  99993  99994  99995  99996  \\\n",
              "user_id           1  ...  10000  10000  10000  10000  10000  10000  10000   \n",
              "metric           10  ...      1      2      3      4      5      6      7   \n",
              "metric_value      2  ...      2     10      7      5      3      8      6   \n",
              "\n",
              "              99997  99998  99999  \n",
              "user_id       10000  10000  10000  \n",
              "metric            8      9     10  \n",
              "metric_value      0      2      1  \n",
              "\n",
              "[3 rows x 100000 columns]"
            ]
          },
          "execution_count": 198,
          "metadata": {},
          "output_type": "execute_result"
        }
      ],
      "source": [
        "agr_user_actions = pd.DataFrame.from_dict(user_actions, orient='index')\n",
        "agr_user_actions.head()\n"
      ]
    },
    {
      "cell_type": "code",
      "execution_count": 199,
      "metadata": {
        "id": "hAVvcxwFYaLp"
      },
      "outputs": [
        {
          "data": {
            "text/html": [
              "<div>\n",
              "<style scoped>\n",
              "    .dataframe tbody tr th:only-of-type {\n",
              "        vertical-align: middle;\n",
              "    }\n",
              "\n",
              "    .dataframe tbody tr th {\n",
              "        vertical-align: top;\n",
              "    }\n",
              "\n",
              "    .dataframe thead th {\n",
              "        text-align: right;\n",
              "    }\n",
              "</style>\n",
              "<table border=\"1\" class=\"dataframe\">\n",
              "  <thead>\n",
              "    <tr style=\"text-align: right;\">\n",
              "      <th></th>\n",
              "      <th>user_id</th>\n",
              "      <th>metric</th>\n",
              "      <th>metric_value</th>\n",
              "    </tr>\n",
              "  </thead>\n",
              "  <tbody>\n",
              "    <tr>\n",
              "      <th>0</th>\n",
              "      <td>1</td>\n",
              "      <td>1</td>\n",
              "      <td>6</td>\n",
              "    </tr>\n",
              "    <tr>\n",
              "      <th>1</th>\n",
              "      <td>1</td>\n",
              "      <td>2</td>\n",
              "      <td>10</td>\n",
              "    </tr>\n",
              "    <tr>\n",
              "      <th>2</th>\n",
              "      <td>1</td>\n",
              "      <td>3</td>\n",
              "      <td>5</td>\n",
              "    </tr>\n",
              "    <tr>\n",
              "      <th>3</th>\n",
              "      <td>1</td>\n",
              "      <td>4</td>\n",
              "      <td>9</td>\n",
              "    </tr>\n",
              "    <tr>\n",
              "      <th>4</th>\n",
              "      <td>1</td>\n",
              "      <td>5</td>\n",
              "      <td>1</td>\n",
              "    </tr>\n",
              "  </tbody>\n",
              "</table>\n",
              "</div>"
            ],
            "text/plain": [
              "   user_id  metric  metric_value\n",
              "0        1       1             6\n",
              "1        1       2            10\n",
              "2        1       3             5\n",
              "3        1       4             9\n",
              "4        1       5             1"
            ]
          },
          "execution_count": 199,
          "metadata": {},
          "output_type": "execute_result"
        }
      ],
      "source": [
        "agr_user_actions = agr_user_actions.T\n",
        "agr_user_actions = agr_user_actions[['user_id', 'metric', 'metric_value']]\n",
        "agr_user_actions.head()\n"
      ]
    },
    {
      "cell_type": "code",
      "execution_count": 200,
      "metadata": {
        "id": "9qc2AbD3YaLq"
      },
      "outputs": [],
      "source": [
        "agr_user_actions =  agr_user_actions.sort_values(['user_id', 'metric'], ascending=True)"
      ]
    },
    {
      "attachments": {},
      "cell_type": "markdown",
      "metadata": {
        "id": "NxWTQxVcChIN"
      },
      "source": [
        "Создание тестовой и тренировочной выборок"
      ]
    },
    {
      "cell_type": "code",
      "execution_count": 201,
      "metadata": {
        "id": "Us7VbmZNYaLs"
      },
      "outputs": [],
      "source": [
        "train_data, test_data = ts(agr_user_actions, test_size=0.2)"
      ]
    },
    {
      "cell_type": "code",
      "execution_count": 202,
      "metadata": {
        "id": "-nJunR6YYaLt"
      },
      "outputs": [],
      "source": [
        "n_users = len(agr_user_actions['user_id'].unique())\n",
        "n_metrics = len(agr_user_actions['metric'].unique())"
      ]
    },
    {
      "cell_type": "code",
      "execution_count": 203,
      "metadata": {
        "id": "EK41fgNrYaLu"
      },
      "outputs": [],
      "source": [
        "agr_user_actions_matrix = np.zeros((n_users, n_metrics))\n",
        "for line in train_data.itertuples():\n",
        "    agr_user_actions_matrix[line[1] - 1, line[2] - 1] = line[3]\n",
        "    \n",
        "test_data_matrix = np.zeros((n_users, n_metrics))\n",
        "for line in test_data.itertuples():\n",
        "    test_data_matrix[line[1] - 1, line[2] - 1] = line[3]"
      ]
    },
    {
      "attachments": {},
      "cell_type": "markdown",
      "metadata": {
        "id": "H2-Q5mP9CmtC"
      },
      "source": [
        "Скалярное произведение векторов для определения степени схожести пользователей"
      ]
    },
    {
      "cell_type": "code",
      "execution_count": 204,
      "metadata": {
        "id": "EUqnL_YxYaLv"
      },
      "outputs": [],
      "source": [
        "\n",
        "# считаем косинусное расстояние для пользователей и фильмов \n",
        "# (построчно и поколоночно соотвественно).\n",
        "user_similarity = pairwise_distances(agr_user_actions_matrix, metric='cosine')\n",
        "item_similarity = pairwise_distances(agr_user_actions_matrix.T, metric='cosine')"
      ]
    },
    {
      "attachments": {},
      "cell_type": "markdown",
      "metadata": {
        "id": "2xBf5i_GCsa5"
      },
      "source": [
        "Принимает на вход матрицу с косинусными расстояниями и user_id нужного пользователя, выдает топ 20 user_id с которыми схож укзанный user_id"
      ]
    },
    {
      "cell_type": "code",
      "execution_count": 205,
      "metadata": {
        "id": "PLK_7CkAYaLw"
      },
      "outputs": [],
      "source": [
        "def get_similar_users(user_id):\n",
        "    current_user = user_similarity[user_id].tolist()\n",
        "    user_sim_list = heapq.nsmallest(20, current_user)\n",
        "    id_sim_user = []\n",
        "    for score in user_sim_list:\n",
        "      index = current_user.index(score)\n",
        "      id_sim_user.append(index)   \n",
        "    return id_sim_user[1:]"
      ]
    },
    {
      "cell_type": "code",
      "execution_count": 206,
      "metadata": {
        "id": "TxsAbav5-88u"
      },
      "outputs": [],
      "source": [
        "def uniq_tour(user_id):\n",
        "  a = get_similar_users(user_id)\n",
        "  recom_tours = [user_tours.purchased_tour[a[0]]]\n",
        "  for i in a[1:]:\n",
        "    if len(recom_tours) < 6:\n",
        "      if user_tours.purchased_tour[i] not in recom_tours:\n",
        "        recom_tours.append(user_tours.purchased_tour[i])\n",
        "    else:\n",
        "      return recom_tours\n"
      ]
    },
    {
      "cell_type": "code",
      "execution_count": 207,
      "metadata": {
        "colab": {
          "base_uri": "https://localhost:8080/"
        },
        "id": "FYgb0YFMGYJx",
        "outputId": "4fbcf87c-4f06-4bc3-fa97-b0422e1f648f"
      },
      "outputs": [
        {
          "name": "stdout",
          "output_type": "stream",
          "text": [
            "2\n"
          ]
        }
      ],
      "source": [
        "print(agr_user_actions.metric_value[520])"
      ]
    },
    {
      "cell_type": "code",
      "execution_count": 208,
      "metadata": {},
      "outputs": [
        {
          "data": {
            "text/html": [
              "<div>\n",
              "<style scoped>\n",
              "    .dataframe tbody tr th:only-of-type {\n",
              "        vertical-align: middle;\n",
              "    }\n",
              "\n",
              "    .dataframe tbody tr th {\n",
              "        vertical-align: top;\n",
              "    }\n",
              "\n",
              "    .dataframe thead th {\n",
              "        text-align: right;\n",
              "    }\n",
              "</style>\n",
              "<table border=\"1\" class=\"dataframe\">\n",
              "  <thead>\n",
              "    <tr style=\"text-align: right;\">\n",
              "      <th></th>\n",
              "      <th>user_id</th>\n",
              "      <th>metric</th>\n",
              "      <th>metric_value</th>\n",
              "    </tr>\n",
              "  </thead>\n",
              "  <tbody>\n",
              "    <tr>\n",
              "      <th>44170</th>\n",
              "      <td>4418</td>\n",
              "      <td>1</td>\n",
              "      <td>9</td>\n",
              "    </tr>\n",
              "    <tr>\n",
              "      <th>44171</th>\n",
              "      <td>4418</td>\n",
              "      <td>2</td>\n",
              "      <td>3</td>\n",
              "    </tr>\n",
              "    <tr>\n",
              "      <th>44172</th>\n",
              "      <td>4418</td>\n",
              "      <td>3</td>\n",
              "      <td>6</td>\n",
              "    </tr>\n",
              "    <tr>\n",
              "      <th>44173</th>\n",
              "      <td>4418</td>\n",
              "      <td>4</td>\n",
              "      <td>2</td>\n",
              "    </tr>\n",
              "    <tr>\n",
              "      <th>44174</th>\n",
              "      <td>4418</td>\n",
              "      <td>5</td>\n",
              "      <td>8</td>\n",
              "    </tr>\n",
              "    <tr>\n",
              "      <th>44175</th>\n",
              "      <td>4418</td>\n",
              "      <td>6</td>\n",
              "      <td>0</td>\n",
              "    </tr>\n",
              "    <tr>\n",
              "      <th>44176</th>\n",
              "      <td>4418</td>\n",
              "      <td>7</td>\n",
              "      <td>3</td>\n",
              "    </tr>\n",
              "    <tr>\n",
              "      <th>44177</th>\n",
              "      <td>4418</td>\n",
              "      <td>8</td>\n",
              "      <td>3</td>\n",
              "    </tr>\n",
              "    <tr>\n",
              "      <th>44178</th>\n",
              "      <td>4418</td>\n",
              "      <td>9</td>\n",
              "      <td>7</td>\n",
              "    </tr>\n",
              "    <tr>\n",
              "      <th>44179</th>\n",
              "      <td>4418</td>\n",
              "      <td>10</td>\n",
              "      <td>8</td>\n",
              "    </tr>\n",
              "  </tbody>\n",
              "</table>\n",
              "</div>"
            ],
            "text/plain": [
              "       user_id  metric  metric_value\n",
              "44170     4418       1             9\n",
              "44171     4418       2             3\n",
              "44172     4418       3             6\n",
              "44173     4418       4             2\n",
              "44174     4418       5             8\n",
              "44175     4418       6             0\n",
              "44176     4418       7             3\n",
              "44177     4418       8             3\n",
              "44178     4418       9             7\n",
              "44179     4418      10             8"
            ]
          },
          "execution_count": 208,
          "metadata": {},
          "output_type": "execute_result"
        }
      ],
      "source": [
        "agr_user_actions[agr_user_actions['user_id'] == 4418]"
      ]
    },
    {
      "cell_type": "code",
      "execution_count": 209,
      "metadata": {},
      "outputs": [
        {
          "data": {
            "text/plain": [
              "[9341,\n",
              " 8763,\n",
              " 8741,\n",
              " 7658,\n",
              " 1789,\n",
              " 8705,\n",
              " 1004,\n",
              " 4853,\n",
              " 3789,\n",
              " 3050,\n",
              " 7745,\n",
              " 446,\n",
              " 7908,\n",
              " 8,\n",
              " 8426,\n",
              " 4130,\n",
              " 6870,\n",
              " 139,\n",
              " 2217]"
            ]
          },
          "execution_count": 209,
          "metadata": {},
          "output_type": "execute_result"
        }
      ],
      "source": [
        "get_similar_users(1)"
      ]
    },
    {
      "cell_type": "code",
      "execution_count": 210,
      "metadata": {
        "colab": {
          "base_uri": "https://localhost:8080/"
        },
        "id": "SG5V7ZNOCKIC",
        "outputId": "dc562d54-5030-4478-fd60-3f47c421e8b7"
      },
      "outputs": [
        {
          "data": {
            "text/plain": [
              "['6245c18d994c99973187ba38',\n",
              " '60ca1a5a1a4b0700192fcb02',\n",
              " '6389dade810482a5a14a805e',\n",
              " '6311d0eeb83c39826306a0a2',\n",
              " '624430c6994c9997317cea0a',\n",
              " '626020c337248b4967e2c5ac']"
            ]
          },
          "execution_count": 210,
          "metadata": {},
          "output_type": "execute_result"
        }
      ],
      "source": [
        "uniq_tour(1)"
      ]
    }
  ],
  "metadata": {
    "colab": {
      "provenance": []
    },
    "kernelspec": {
      "display_name": "Python 3",
      "language": "python",
      "name": "python3"
    },
    "language_info": {
      "codemirror_mode": {
        "name": "ipython",
        "version": 3
      },
      "file_extension": ".py",
      "mimetype": "text/x-python",
      "name": "python",
      "nbconvert_exporter": "python",
      "pygments_lexer": "ipython3",
      "version": "3.10.9"
    },
    "orig_nbformat": 4
  },
  "nbformat": 4,
  "nbformat_minor": 0
}
